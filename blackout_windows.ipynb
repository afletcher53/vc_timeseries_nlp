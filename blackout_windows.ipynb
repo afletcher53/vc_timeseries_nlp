{
 "cells": [
  {
   "cell_type": "markdown",
   "metadata": {},
   "source": [
    "# Blackout windower"
   ]
  },
  {
   "cell_type": "code",
   "execution_count": 1,
   "metadata": {},
   "outputs": [],
   "source": [
    "import pandas as pd\n",
    "%run constants.py\n",
    "import tensorflow as tf\n",
    "\n",
    "tf.random.set_seed(\n",
    "    SEED\n",
    ")\n",
    "import os\n",
    "from numpy.random import seed \n",
    "import pickle\n",
    "seed(SEED)"
   ]
  },
  {
   "cell_type": "code",
   "execution_count": 2,
   "metadata": {},
   "outputs": [],
   "source": [
    "#Output window override (so you can predict on more ouput windows)\n",
    "TIME_STEP: int = 30\n",
    "output: int = 90\n",
    "\n",
    "# Some file name editing for timestep\n",
    "f = os.path.basename(X_TRAIN_SINGLE_TIMESTEP_RAW)\n",
    "X_TRAIN_SINGLE_TIMESTEP_RAW = os.path.join(DATA_DIR, os.path.splitext(os.path.basename(f))[0] + \"_\" + str(TIME_STEP) + os.path.splitext(os.path.basename(f))[1]) \n",
    "f = os.path.basename(X_TEST_SINGLE_TIMESTEP_RAW)\n",
    "X_TEST_SINGLE_TIMESTEP_RAW = os.path.join(DATA_DIR, os.path.splitext(os.path.basename(f))[0] + \"_\" + str(TIME_STEP) + os.path.splitext(os.path.basename(f))[1]) \n",
    "f = os.path.basename(X_VAL_SINGLE_TIMESTEP_RAW)\n",
    "X_VAL_SINGLE_TIMESTEP_RAW = os.path.join(DATA_DIR, os.path.splitext(os.path.basename(f))[0] + \"_\" + str(TIME_STEP) + os.path.splitext(os.path.basename(f))[1]) \n",
    "\n",
    "\n",
    "f = os.path.basename(X_TRAIN_INPUT_SAVE_FILE_VEC_SINGLE_TIMESTEP)\n",
    "X_TRAIN_INPUT_SAVE_FILE_VEC_SINGLE_TIMESTEP = os.path.join(DATA_DIR, os.path.splitext(os.path.basename(f))[0] + \"_\" + str(TIME_STEP) + os.path.splitext(os.path.basename(f))[1]) \n",
    "f = os.path.basename(X_TEST_INPUT_SAVE_FILE_VEC_SINGLE_TIMESTEP)\n",
    "X_TEST_INPUT_SAVE_FILE_VEC_SINGLE_TIMESTEP = os.path.join(DATA_DIR, os.path.splitext(os.path.basename(f))[0] + \"_\" + str(TIME_STEP) + os.path.splitext(os.path.basename(f))[1]) \n",
    "f = os.path.basename(X_VAL_INPUT_SAVE_FILE_VEC_SINGLE_TIMESTEP)\n",
    "X_VAL_INPUT_SAVE_FILE_VEC_SINGLE_TIMESTEP = os.path.join(DATA_DIR, os.path.splitext(os.path.basename(f))[0] + \"_\" + str(TIME_STEP) + os.path.splitext(os.path.basename(f))[1]) \n",
    "\n",
    "f = os.path.basename(X_TRAIN_INPUT_SAVE_FILE_VEC_MULTI_TIMESTEP)\n",
    "X_TRAIN_INPUT_SAVE_FILE_VEC_MULTI_TIMESTEP = os.path.join(DATA_DIR, os.path.splitext(os.path.basename(f))[0] + \"_\" + str(TIME_STEP) + os.path.splitext(os.path.basename(f))[1]) \n",
    "f = os.path.basename(X_TEST_INPUT_SAVE_FILE_VEC_MULTI_TIMESTEP)\n",
    "X_TEST_INPUT_SAVE_FILE_VEC_MULTI_TIMESTEP = os.path.join(DATA_DIR, os.path.splitext(os.path.basename(f))[0] + \"_\" + str(TIME_STEP) + os.path.splitext(os.path.basename(f))[1]) \n",
    "f = os.path.basename(X_VAL_INPUT_SAVE_FILE_VEC_MULTI_TIMESTEP)\n",
    "X_VAL_INPUT_SAVE_FILE_VEC_MULTI_TIMESTEP = os.path.join(DATA_DIR, os.path.splitext(os.path.basename(f))[0] + \"_\" + str(TIME_STEP) + os.path.splitext(os.path.basename(f))[1]) \n",
    "\n",
    "f = os.path.basename(Y_TRAIN_INPUT_SAVE_FILE)\n",
    "Y_TRAIN_INPUT_SAVE_FILE = os.path.join(DATA_DIR, os.path.splitext(os.path.basename(f))[0] + \"_\" + str(output) + os.path.splitext(os.path.basename(f))[1]) \n",
    "f = os.path.basename(Y_TEST_INPUT_SAVE_FILE)\n",
    "Y_TEST_INPUT_SAVE_FILE = os.path.join(DATA_DIR, os.path.splitext(os.path.basename(f))[0] + \"_\" + str(output) + os.path.splitext(os.path.basename(f))[1]) \n",
    "f = os.path.basename(Y_VAL_INPUT_SAVE_FILE)\n",
    "Y_VAL_INPUT_SAVE_FILE = os.path.join(DATA_DIR, os.path.splitext(os.path.basename(f))[0] + \"_\" + str(output) + os.path.splitext(os.path.basename(f))[1]) \n",
    "\n",
    "f = os.path.basename(EMBEDDING_MATRIX_SAVE_FILE)\n",
    "EMBEDDING_MATRIX_SAVE_FILE= os.path.join(DATA_DIR, os.path.splitext(os.path.basename(f))[0] + \"_\" + str(TIME_STEP) + os.path.splitext(os.path.basename(f))[1]) \n",
    "f = os.path.basename(VOCAB_SAVE_FILE)\n",
    "VOCAB_SAVE_FILE = os.path.join(DATA_DIR, os.path.splitext(os.path.basename(f))[0] + \"_\" + str(TIME_STEP) + os.path.splitext(os.path.basename(f))[1]) \n",
    "f = os.path.basename(TRAIN_CORPORA)\n",
    "TRAIN_CORPORA = os.path.join(DATA_DIR, os.path.splitext(os.path.basename(f))[0] + \"_\" + str(TIME_STEP) + os.path.splitext(os.path.basename(f))[1]) \n",
    "\n",
    "file_suffix: str = f'_i{TIME_STEP}_o{output}'"
   ]
  },
  {
   "cell_type": "code",
   "execution_count": 3,
   "metadata": {},
   "outputs": [],
   "source": [
    "with open(X_TEST_INPUT_SAVE_FILE_VEC_MULTI_TIMESTEP, \"rb\") as f:\n",
    "        x_test = pickle.load(f)\n",
    "with open(Y_TEST_INPUT_SAVE_FILE, \"rb\") as f:\n",
    "        y_test = pickle.load(f)"
   ]
  },
  {
   "cell_type": "code",
   "execution_count": 4,
   "metadata": {},
   "outputs": [],
   "source": [
    "# test_blackout_windows: list = []\n",
    "# for i in range(x_test.shape[1]):\n",
    "#     test_blackout_inner: list = []\n",
    "#     for x in range(x_test.shape[0]):\n",
    "#         np_array = x_test[x]\n",
    "#         np_array[i] = 0\n",
    "#         print(np_array)\n",
    "\n",
    "#         test_blackout_inner.append(np_array)\n",
    "#     test_blackout_windows.append(test_blackout_inner)\n",
    "       \n",
    "# test_blackout_windows"
   ]
  },
  {
   "cell_type": "code",
   "execution_count": 5,
   "metadata": {},
   "outputs": [
    {
     "data": {
      "text/plain": [
       "30"
      ]
     },
     "execution_count": 5,
     "metadata": {},
     "output_type": "execute_result"
    }
   ],
   "source": [
    "import numpy as np\n",
    "test_blackout_windows: list = []\n",
    "for i in range(x_test.shape[1]):\n",
    "    arr = np.array(x_test)\n",
    "    arr[:,i,:] = 0\n",
    "    test_blackout_windows.append(arr)\n",
    "\n",
    "\n",
    "len(test_blackout_windows)"
   ]
  },
  {
   "cell_type": "code",
   "execution_count": 6,
   "metadata": {},
   "outputs": [
    {
     "name": "stderr",
     "output_type": "stream",
     "text": [
      "2022-08-11 22:04:27.388075: I tensorflow/core/platform/cpu_feature_guard.cc:193] This TensorFlow binary is optimized with oneAPI Deep Neural Network Library (oneDNN) to use the following CPU instructions in performance-critical operations:  AVX2 FMA\n",
      "To enable them in other operations, rebuild TensorFlow with the appropriate compiler flags.\n",
      "2022-08-11 22:04:28.236164: I tensorflow/core/common_runtime/gpu/gpu_device.cc:1532] Created device /job:localhost/replica:0/task:0/device:GPU:0 with 6672 MB memory:  -> device: 0, name: GeForce RTX 2070, pci bus id: 0000:03:00.0, compute capability: 7.5\n",
      "2022-08-11 22:04:28.236995: I tensorflow/core/common_runtime/gpu/gpu_device.cc:1532] Created device /job:localhost/replica:0/task:0/device:GPU:1 with 6671 MB memory:  -> device: 1, name: GeForce RTX 2070, pci bus id: 0000:04:00.0, compute capability: 7.5\n"
     ]
    }
   ],
   "source": [
    "new_model = tf.keras.models.load_model('saved_model/multi_timestep_cnn_i30_o90')"
   ]
  },
  {
   "cell_type": "code",
   "execution_count": 7,
   "metadata": {},
   "outputs": [
    {
     "name": "stdout",
     "output_type": "stream",
     "text": [
      "Model: \"model_5\"\n",
      "_________________________________________________________________\n",
      " Layer (type)                Output Shape              Param #   \n",
      "=================================================================\n",
      " input_docs (InputLayer)     [(None, 30, 200)]         0         \n",
      "                                                                 \n",
      " token_embedding_model (Time  (None, 30, 196, 400)     1200400   \n",
      " Distributed)                                                    \n",
      "                                                                 \n",
      " conv1d_1 (Conv1D)           (None, 30, 192, 400)      800400    \n",
      "                                                                 \n",
      " dropout_5 (Dropout)         (None, 30, 192, 400)      0         \n",
      "                                                                 \n",
      " flatten (Flatten)           (None, 2304000)           0         \n",
      "                                                                 \n",
      " dense_2 (Dense)             (None, 1)                 2304001   \n",
      "                                                                 \n",
      "=================================================================\n",
      "Total params: 4,304,801\n",
      "Trainable params: 4,304,801\n",
      "Non-trainable params: 0\n",
      "_________________________________________________________________\n"
     ]
    }
   ],
   "source": [
    "new_model.summary()"
   ]
  },
  {
   "cell_type": "code",
   "execution_count": 12,
   "metadata": {},
   "outputs": [
    {
     "name": "stdout",
     "output_type": "stream",
     "text": [
      "22/22 [==============================] - 1s 51ms/step - loss: 0.7475 - binary_accuracy: 0.6131\n",
      "22/22 [==============================] - 1s 51ms/step - loss: 0.7435 - binary_accuracy: 0.6175\n",
      "22/22 [==============================] - 1s 51ms/step - loss: 0.7434 - binary_accuracy: 0.6131\n",
      "22/22 [==============================] - 1s 51ms/step - loss: 0.7469 - binary_accuracy: 0.6131\n",
      "22/22 [==============================] - 1s 51ms/step - loss: 0.7478 - binary_accuracy: 0.6161\n",
      "22/22 [==============================] - 1s 51ms/step - loss: 0.7505 - binary_accuracy: 0.6117\n",
      "22/22 [==============================] - 1s 51ms/step - loss: 0.7469 - binary_accuracy: 0.6102\n",
      "22/22 [==============================] - 1s 51ms/step - loss: 0.7485 - binary_accuracy: 0.6131\n",
      "22/22 [==============================] - 1s 51ms/step - loss: 0.7469 - binary_accuracy: 0.6088\n",
      "22/22 [==============================] - 1s 51ms/step - loss: 0.7362 - binary_accuracy: 0.6161\n",
      "22/22 [==============================] - 1s 52ms/step - loss: 0.7489 - binary_accuracy: 0.6102\n",
      "22/22 [==============================] - 1s 51ms/step - loss: 0.7482 - binary_accuracy: 0.6131\n",
      "22/22 [==============================] - 1s 51ms/step - loss: 0.7415 - binary_accuracy: 0.6161\n",
      "22/22 [==============================] - 1s 51ms/step - loss: 0.7511 - binary_accuracy: 0.6117\n",
      "22/22 [==============================] - 1s 51ms/step - loss: 0.7499 - binary_accuracy: 0.6117\n",
      "22/22 [==============================] - 1s 51ms/step - loss: 0.7409 - binary_accuracy: 0.6146\n",
      "22/22 [==============================] - 1s 51ms/step - loss: 0.7467 - binary_accuracy: 0.6131\n",
      "22/22 [==============================] - 1s 51ms/step - loss: 0.7527 - binary_accuracy: 0.6117\n",
      "22/22 [==============================] - 1s 52ms/step - loss: 0.7429 - binary_accuracy: 0.6131\n",
      "22/22 [==============================] - 1s 51ms/step - loss: 0.7447 - binary_accuracy: 0.6102\n",
      "22/22 [==============================] - 1s 51ms/step - loss: 0.7510 - binary_accuracy: 0.6117\n",
      "22/22 [==============================] - 1s 51ms/step - loss: 0.7481 - binary_accuracy: 0.6146\n",
      "22/22 [==============================] - 1s 51ms/step - loss: 0.7463 - binary_accuracy: 0.6102\n",
      "22/22 [==============================] - 1s 51ms/step - loss: 0.7441 - binary_accuracy: 0.6146\n",
      "22/22 [==============================] - 1s 51ms/step - loss: 0.7449 - binary_accuracy: 0.6088\n",
      "22/22 [==============================] - 1s 52ms/step - loss: 0.7416 - binary_accuracy: 0.6102\n",
      "22/22 [==============================] - 1s 52ms/step - loss: 0.7381 - binary_accuracy: 0.6117\n",
      "22/22 [==============================] - 1s 51ms/step - loss: 0.7485 - binary_accuracy: 0.6088\n",
      "22/22 [==============================] - 1s 52ms/step - loss: 0.7490 - binary_accuracy: 0.6131\n",
      "22/22 [==============================] - 1s 51ms/step - loss: 0.7707 - binary_accuracy: 0.5606\n",
      "[[0, 0.6131386756896973], [1, 0.6175182461738586], [2, 0.6131386756896973], [3, 0.6131386756896973], [4, 0.6160584092140198], [5, 0.6116788387298584], [6, 0.6102190017700195], [7, 0.6131386756896973], [8, 0.6087591052055359], [9, 0.6160584092140198], [10, 0.6102190017700195], [11, 0.6131386756896973], [12, 0.6160584092140198], [13, 0.6116788387298584], [14, 0.6116788387298584], [15, 0.6145985126495361], [16, 0.6131386756896973], [17, 0.6116788387298584], [18, 0.6131386756896973], [19, 0.6102190017700195], [20, 0.6116788387298584], [21, 0.6145985126495361], [22, 0.6102190017700195], [23, 0.6145985126495361], [24, 0.6087591052055359], [25, 0.6102190017700195], [26, 0.6116788387298584], [27, 0.6087591052055359], [28, 0.6131386756896973], [29, 0.5605839490890503]]\n"
     ]
    }
   ],
   "source": [
    "timestep_acc: list = []\n",
    "for i in range(len(test_blackout_windows)):\n",
    "    x_test_blackout = test_blackout_windows[i]\n",
    "    acc = new_model.evaluate(x_test_blackout, y_test)\n",
    "    timestep_acc.append([i, acc[1]])\n",
    "\n",
    "print(timestep_acc)\n"
   ]
  },
  {
   "cell_type": "code",
   "execution_count": 10,
   "metadata": {},
   "outputs": [
    {
     "data": {
      "text/plain": [
       "[0.7475470304489136, 0.6116788387298584]"
      ]
     },
     "execution_count": 10,
     "metadata": {},
     "output_type": "execute_result"
    }
   ],
   "source": [
    "test"
   ]
  }
 ],
 "metadata": {
  "kernelspec": {
   "display_name": "Python 3.7.10 64-bit",
   "language": "python",
   "name": "python3"
  },
  "language_info": {
   "codemirror_mode": {
    "name": "ipython",
    "version": 3
   },
   "file_extension": ".py",
   "mimetype": "text/x-python",
   "name": "python",
   "nbconvert_exporter": "python",
   "pygments_lexer": "ipython3",
   "version": "3.7.10"
  },
  "orig_nbformat": 4,
  "vscode": {
   "interpreter": {
    "hash": "fd69f43f58546b570e94fd7eba7b65e6bcc7a5bbc4eab0408017d18902915d69"
   }
  }
 },
 "nbformat": 4,
 "nbformat_minor": 2
}
