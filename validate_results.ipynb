{
 "cells": [
  {
   "cell_type": "code",
   "execution_count": 35,
   "metadata": {},
   "outputs": [],
   "source": [
    "# multi_approaches: list = ['cnn', 'lstm', 'stacked_lstm', 'bilstm',  'stacked_bilstm']\n",
    "# input_window: list = [90]\n",
    "# output_window: list = [30, 60, 90]\n",
    "\n",
    "multi_approaches: list = ['stacked_bilstm']\n",
    "input_window: list = [90]\n",
    "output_window: list = [30, 60, 90]"
   ]
  },
  {
   "cell_type": "code",
   "execution_count": 36,
   "metadata": {},
   "outputs": [],
   "source": [
    "saved_models: list = []\n",
    "for approach in multi_approaches:\n",
    "    for input in input_window:\n",
    "        for output in output_window:\n",
    "            saved_models.append([f\"saved_model/{approach}_i{input}_o{output}\", input, output])\n",
    "\n"
   ]
  },
  {
   "cell_type": "code",
   "execution_count": 37,
   "metadata": {},
   "outputs": [
    {
     "name": "stdout",
     "output_type": "stream",
     "text": [
      "saved_model/stacked_bilstm_i90_o30\n",
      "90\n",
      "/home/aaron/timeseries_nlp/data/X_test_vec_multi_timestep_90.pkl\n",
      "22/22 [==============================] - 4s 88ms/step\n",
      "(685,)\n",
      "(685,)\n",
      "22/22 [==============================] - 4s 93ms/step - loss: 0.6188 - binary_accuracy: 0.6599\n",
      "saved_model/stacked_bilstm_i90_o60\n",
      "90\n",
      "/home/aaron/timeseries_nlp/data/X_test_vec_multi_timestep_90.pkl\n",
      "22/22 [==============================] - 5s 88ms/step\n",
      "(685,)\n",
      "(685,)\n",
      "22/22 [==============================] - 4s 93ms/step - loss: 0.6323 - binary_accuracy: 0.6307\n",
      "saved_model/stacked_bilstm_i90_o90\n",
      "90\n",
      "/home/aaron/timeseries_nlp/data/X_test_vec_multi_timestep_90.pkl\n",
      "22/22 [==============================] - 4s 88ms/step\n",
      "(685,)\n",
      "(685,)\n",
      "22/22 [==============================] - 4s 93ms/step - loss: 0.6465 - binary_accuracy: 0.6073\n"
     ]
    }
   ],
   "source": [
    "import tensorflow as tf\n",
    "import os\n",
    "import pickle\n",
    "%run constants.py\n",
    "def load_test_dataset(timestep:int, output:int):\n",
    "    print(timestep)\n",
    "    if timestep == 1:\n",
    "        print(\"help\")\n",
    "        f = os.path.basename(X_TEST_INPUT_SAVE_FILE_VEC_MULTI_TIMESTEP)\n",
    "        X_TEST_DIR = os.path.join(DATA_DIR, 'X_test_vec_single_timestep_30.pkl') \n",
    "        print(X_TEST_DIR)\n",
    "        f = os.path.basename(Y_TEST_INPUT_SAVE_FILE)\n",
    "        Y_TEST_DIR = os.path.join(DATA_DIR, os.path.splitext(os.path.basename(f))[0] + \"_\" + str(output) + os.path.splitext(os.path.basename(f))[1]) \n",
    "        print(Y_TEST_DIR)\n",
    "    else:\n",
    "        f = os.path.basename(X_TEST_INPUT_SAVE_FILE_VEC_MULTI_TIMESTEP)\n",
    "        X_TEST_DIR = os.path.join(DATA_DIR, os.path.splitext(os.path.basename(f))[0] + \"_\" + str(timestep) + os.path.splitext(os.path.basename(f))[1]) \n",
    "        f = os.path.basename(Y_TEST_INPUT_SAVE_FILE)\n",
    "        Y_TEST_DIR = os.path.join(DATA_DIR, os.path.splitext(os.path.basename(f))[0] + \"_\" + str(output) + os.path.splitext(os.path.basename(f))[1]) \n",
    "    print(X_TEST_DIR)\n",
    "    with open(X_TEST_DIR, \"rb\") as f:\n",
    "                x_test = pickle.load(f)\n",
    "\n",
    "    with open(Y_TEST_DIR, \"rb\") as f:\n",
    "                y_test = pickle.load(f)\n",
    "    return x_test, y_test\n",
    "\n",
    "results: list = []\n",
    "\n",
    "import keras.backend as K\n",
    "from sklearn.metrics import f1_score\n",
    "import keras\n",
    "import numpy\n",
    "import tensorflow\n",
    "from sklearn.metrics import plot_confusion_matrix\n",
    "\n",
    "class estimator:\n",
    "  _estimator_type = ''\n",
    "  classes_=[]\n",
    "  def __init__(self, model, classes):\n",
    "    self.model = model\n",
    "    self._estimator_type = 'classifier'\n",
    "    self.classes_ = classes\n",
    "  def predict(self, X):\n",
    "    y_prob= self.model.predict(X)\n",
    "    y_pred = y_prob.argmax(axis=1)\n",
    "    return y_pred\n",
    "\n",
    "from matplotlib import pyplot as plt\n",
    "from sklearn.metrics import precision_recall_fscore_support, confusion_matrix\n",
    "\n",
    "for model_info in saved_models:\n",
    "    print(model_info[0])\n",
    "    model = tf.keras.models.load_model(model_info[0])\n",
    "    x_test, y_test = load_test_dataset(model_info[1], model_info[2])\n",
    "    y_prob = model.predict(x_test)\n",
    "    y_prob[y_prob <= 0.5] = 0\n",
    "    y_prob[y_prob > 0.5] = 1\n",
    "    y_prob = tensorflow.convert_to_tensor(y_prob)\n",
    "    class_names = ['revist','non-revisit']\n",
    "    classifier = estimator(model, class_names)\n",
    "    y_prob = tf.cast(y_prob, tf.int64)\n",
    "    y_test = tf.cast(y_test, tf.int64)\n",
    "    y_prob = tf.reshape(y_prob,[-1])\n",
    "    print(y_test.shape)\n",
    "    print(y_prob.shape)\n",
    "    cm = confusion_matrix(\n",
    "    y_test,\n",
    "    y_prob)\n",
    "    results.append([model_info, model.evaluate(x_test, y_test), f1_score(y_test, y_prob), cm, precision_recall_fscore_support(y_test, y_prob, average='micro')])"
   ]
  },
  {
   "cell_type": "code",
   "execution_count": 38,
   "metadata": {},
   "outputs": [
    {
     "name": "stdout",
     "output_type": "stream",
     "text": [
      "[['saved_model/stacked_bilstm_i90_o30', 90, 30], [0.6188145875930786, 0.659853994846344], 0.5786618444846292, array([[292, 103],\n",
      "       [130, 160]]), (0.6598540145985401, 0.6598540145985401, 0.6598540145985401, None)]\n",
      "[['saved_model/stacked_bilstm_i90_o60', 90, 60], [0.6322587132453918, 0.6306569576263428], 0.6195488721804511, array([[226, 119],\n",
      "       [134, 206]]), (0.6306569343065693, 0.6306569343065693, 0.6306569343065693, None)]\n",
      "[['saved_model/stacked_bilstm_i90_o90', 90, 90], [0.6465084552764893, 0.607299268245697], 0.6492829204693612, array([[167, 134],\n",
      "       [135, 249]]), (0.6072992700729927, 0.6072992700729927, 0.6072992700729927, None)]\n"
     ]
    },
    {
     "data": {
      "text/plain": [
       "[[['saved_model/stacked_bilstm_i90_o30', 90, 30],\n",
       "  [0.6188145875930786, 0.659853994846344],\n",
       "  0.5786618444846292,\n",
       "  array([[292, 103],\n",
       "         [130, 160]]),\n",
       "  (0.6598540145985401, 0.6598540145985401, 0.6598540145985401, None)],\n",
       " [['saved_model/stacked_bilstm_i90_o60', 90, 60],\n",
       "  [0.6322587132453918, 0.6306569576263428],\n",
       "  0.6195488721804511,\n",
       "  array([[226, 119],\n",
       "         [134, 206]]),\n",
       "  (0.6306569343065693, 0.6306569343065693, 0.6306569343065693, None)],\n",
       " [['saved_model/stacked_bilstm_i90_o90', 90, 90],\n",
       "  [0.6465084552764893, 0.607299268245697],\n",
       "  0.6492829204693612,\n",
       "  array([[167, 134],\n",
       "         [135, 249]]),\n",
       "  (0.6072992700729927, 0.6072992700729927, 0.6072992700729927, None)]]"
      ]
     },
     "execution_count": 38,
     "metadata": {},
     "output_type": "execute_result"
    }
   ],
   "source": [
    "for result in results:\n",
    "    print(result)\n",
    "\n",
    "results"
   ]
  }
 ],
 "metadata": {
  "kernelspec": {
   "display_name": "Python 3.9.12 ('tf')",
   "language": "python",
   "name": "python3"
  },
  "language_info": {
   "codemirror_mode": {
    "name": "ipython",
    "version": 3
   },
   "file_extension": ".py",
   "mimetype": "text/x-python",
   "name": "python",
   "nbconvert_exporter": "python",
   "pygments_lexer": "ipython3",
   "version": "3.9.12"
  },
  "orig_nbformat": 4,
  "vscode": {
   "interpreter": {
    "hash": "d6f07f10bbd904384622e2c81da346bac6398da26490ea76cc729ffb1c8c49fa"
   }
  }
 },
 "nbformat": 4,
 "nbformat_minor": 2
}
