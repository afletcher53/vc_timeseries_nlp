{
 "cells": [
  {
   "cell_type": "code",
   "execution_count": 1,
   "metadata": {},
   "outputs": [
    {
     "name": "stderr",
     "output_type": "stream",
     "text": [
      "/home/aaron/anaconda3/envs/tf/lib/python3.9/site-packages/tqdm/auto.py:22: TqdmWarning: IProgress not found. Please update jupyter and ipywidgets. See https://ipywidgets.readthedocs.io/en/stable/user_install.html\n",
      "  from .autonotebook import tqdm as notebook_tqdm\n"
     ]
    },
    {
     "name": "stdout",
     "output_type": "stream",
     "text": [
      "BERT model selected           : https://tfhub.dev/tensorflow/small_bert/bert_en_uncased_L-4_H-512_A-8/1\n",
      "Preprocess model auto-selected: https://tfhub.dev/tensorflow/bert_en_uncased_preprocess/3\n",
      "90\n"
     ]
    }
   ],
   "source": [
    "import tensorflow as tf\n",
    "import tensorflow_hub as hub\n",
    "import numpy\n",
    "import pickle\n",
    "import tensorflow_models as tfm\n",
    "\n",
    "%run constants.py\n",
    "tf.random.set_seed(\n",
    "    SEED\n",
    ")\n",
    "numpy.random.seed(SEED)\n",
    "AUTOTUNE = tf.data.AUTOTUNE\n",
    "\n",
    "bert_model_name = 'small_bert/bert_en_uncased_L-4_H-512_A-8' \n",
    "\n",
    "map_name_to_handle = {\n",
    "    'bert_en_uncased_L-12_H-768_A-12':\n",
    "        'https://tfhub.dev/tensorflow/bert_en_uncased_L-12_H-768_A-12/3',\n",
    "    'bert_en_cased_L-12_H-768_A-12':\n",
    "        'https://tfhub.dev/tensorflow/bert_en_cased_L-12_H-768_A-12/3',\n",
    "    'bert_multi_cased_L-12_H-768_A-12':\n",
    "        'https://tfhub.dev/tensorflow/bert_multi_cased_L-12_H-768_A-12/3',\n",
    "    'small_bert/bert_en_uncased_L-2_H-128_A-2':\n",
    "        'https://tfhub.dev/tensorflow/small_bert/bert_en_uncased_L-2_H-128_A-2/1',\n",
    "    'small_bert/bert_en_uncased_L-2_H-256_A-4':\n",
    "        'https://tfhub.dev/tensorflow/small_bert/bert_en_uncased_L-2_H-256_A-4/1',\n",
    "    'small_bert/bert_en_uncased_L-2_H-512_A-8':\n",
    "        'https://tfhub.dev/tensorflow/small_bert/bert_en_uncased_L-2_H-512_A-8/1',\n",
    "    'small_bert/bert_en_uncased_L-2_H-768_A-12':\n",
    "        'https://tfhub.dev/tensorflow/small_bert/bert_en_uncased_L-2_H-768_A-12/1',\n",
    "    'small_bert/bert_en_uncased_L-4_H-128_A-2':\n",
    "        'https://tfhub.dev/tensorflow/small_bert/bert_en_uncased_L-4_H-128_A-2/1',\n",
    "    'small_bert/bert_en_uncased_L-4_H-256_A-4':\n",
    "        'https://tfhub.dev/tensorflow/small_bert/bert_en_uncased_L-4_H-256_A-4/1',\n",
    "    'small_bert/bert_en_uncased_L-4_H-512_A-8':\n",
    "        'https://tfhub.dev/tensorflow/small_bert/bert_en_uncased_L-4_H-512_A-8/1',\n",
    "    'small_bert/bert_en_uncased_L-4_H-768_A-12':\n",
    "        'https://tfhub.dev/tensorflow/small_bert/bert_en_uncased_L-4_H-768_A-12/1',\n",
    "    'small_bert/bert_en_uncased_L-6_H-128_A-2':\n",
    "        'https://tfhub.dev/tensorflow/small_bert/bert_en_uncased_L-6_H-128_A-2/1',\n",
    "    'small_bert/bert_en_uncased_L-6_H-256_A-4':\n",
    "        'https://tfhub.dev/tensorflow/small_bert/bert_en_uncased_L-6_H-256_A-4/1',\n",
    "    'small_bert/bert_en_uncased_L-6_H-512_A-8':\n",
    "        'https://tfhub.dev/tensorflow/small_bert/bert_en_uncased_L-6_H-512_A-8/1',\n",
    "    'small_bert/bert_en_uncased_L-6_H-768_A-12':\n",
    "        'https://tfhub.dev/tensorflow/small_bert/bert_en_uncased_L-6_H-768_A-12/1',\n",
    "    'small_bert/bert_en_uncased_L-8_H-128_A-2':\n",
    "        'https://tfhub.dev/tensorflow/small_bert/bert_en_uncased_L-8_H-128_A-2/1',\n",
    "    'small_bert/bert_en_uncased_L-8_H-256_A-4':\n",
    "        'https://tfhub.dev/tensorflow/small_bert/bert_en_uncased_L-8_H-256_A-4/1',\n",
    "    'small_bert/bert_en_uncased_L-8_H-512_A-8':\n",
    "        'https://tfhub.dev/tensorflow/small_bert/bert_en_uncased_L-8_H-512_A-8/1',\n",
    "    'small_bert/bert_en_uncased_L-8_H-768_A-12':\n",
    "        'https://tfhub.dev/tensorflow/small_bert/bert_en_uncased_L-8_H-768_A-12/1',\n",
    "    'small_bert/bert_en_uncased_L-10_H-128_A-2':\n",
    "        'https://tfhub.dev/tensorflow/small_bert/bert_en_uncased_L-10_H-128_A-2/1',\n",
    "    'small_bert/bert_en_uncased_L-10_H-256_A-4':\n",
    "        'https://tfhub.dev/tensorflow/small_bert/bert_en_uncased_L-10_H-256_A-4/1',\n",
    "    'small_bert/bert_en_uncased_L-10_H-512_A-8':\n",
    "        'https://tfhub.dev/tensorflow/small_bert/bert_en_uncased_L-10_H-512_A-8/1',\n",
    "    'small_bert/bert_en_uncased_L-10_H-768_A-12':\n",
    "        'https://tfhub.dev/tensorflow/small_bert/bert_en_uncased_L-10_H-768_A-12/1',\n",
    "    'small_bert/bert_en_uncased_L-12_H-128_A-2':\n",
    "        'https://tfhub.dev/tensorflow/small_bert/bert_en_uncased_L-12_H-128_A-2/1',\n",
    "    'small_bert/bert_en_uncased_L-12_H-256_A-4':\n",
    "        'https://tfhub.dev/tensorflow/small_bert/bert_en_uncased_L-12_H-256_A-4/1',\n",
    "    'small_bert/bert_en_uncased_L-12_H-512_A-8':\n",
    "        'https://tfhub.dev/tensorflow/small_bert/bert_en_uncased_L-12_H-512_A-8/1',\n",
    "    'small_bert/bert_en_uncased_L-12_H-768_A-12':\n",
    "        'https://tfhub.dev/tensorflow/small_bert/bert_en_uncased_L-12_H-768_A-12/1',\n",
    "    'albert_en_base':\n",
    "        'https://tfhub.dev/tensorflow/albert_en_base/2',\n",
    "    'electra_small':\n",
    "        'https://tfhub.dev/google/electra_small/2',\n",
    "    'electra_base':\n",
    "        'https://tfhub.dev/google/electra_base/2',\n",
    "    'experts_pubmed':\n",
    "        'https://tfhub.dev/google/experts/bert/pubmed/2',\n",
    "    'experts_wiki_books':\n",
    "        'https://tfhub.dev/google/experts/bert/wiki_books/2',\n",
    "    'talking-heads_base':\n",
    "        'https://tfhub.dev/tensorflow/talkheads_ggelu_bert_en_base/1',\n",
    "}\n",
    "\n",
    "map_model_to_preprocess = {\n",
    "    'bert_en_uncased_L-12_H-768_A-12':\n",
    "        'https://tfhub.dev/tensorflow/bert_en_uncased_preprocess/3',\n",
    "    'bert_en_cased_L-12_H-768_A-12':\n",
    "        'https://tfhub.dev/tensorflow/bert_en_cased_preprocess/3',\n",
    "    'small_bert/bert_en_uncased_L-2_H-128_A-2':\n",
    "        'https://tfhub.dev/tensorflow/bert_en_uncased_preprocess/3',\n",
    "    'small_bert/bert_en_uncased_L-2_H-256_A-4':\n",
    "        'https://tfhub.dev/tensorflow/bert_en_uncased_preprocess/3',\n",
    "    'small_bert/bert_en_uncased_L-2_H-512_A-8':\n",
    "        'https://tfhub.dev/tensorflow/bert_en_uncased_preprocess/3',\n",
    "    'small_bert/bert_en_uncased_L-2_H-768_A-12':\n",
    "        'https://tfhub.dev/tensorflow/bert_en_uncased_preprocess/3',\n",
    "    'small_bert/bert_en_uncased_L-4_H-128_A-2':\n",
    "        'https://tfhub.dev/tensorflow/bert_en_uncased_preprocess/3',\n",
    "    'small_bert/bert_en_uncased_L-4_H-256_A-4':\n",
    "        'https://tfhub.dev/tensorflow/bert_en_uncased_preprocess/3',\n",
    "    'small_bert/bert_en_uncased_L-4_H-512_A-8':\n",
    "        'https://tfhub.dev/tensorflow/bert_en_uncased_preprocess/3',\n",
    "    'small_bert/bert_en_uncased_L-4_H-768_A-12':\n",
    "        'https://tfhub.dev/tensorflow/bert_en_uncased_preprocess/3',\n",
    "    'small_bert/bert_en_uncased_L-6_H-128_A-2':\n",
    "        'https://tfhub.dev/tensorflow/bert_en_uncased_preprocess/3',\n",
    "    'small_bert/bert_en_uncased_L-6_H-256_A-4':\n",
    "        'https://tfhub.dev/tensorflow/bert_en_uncased_preprocess/3',\n",
    "    'small_bert/bert_en_uncased_L-6_H-512_A-8':\n",
    "        'https://tfhub.dev/tensorflow/bert_en_uncased_preprocess/3',\n",
    "    'small_bert/bert_en_uncased_L-6_H-768_A-12':\n",
    "        'https://tfhub.dev/tensorflow/bert_en_uncased_preprocess/3',\n",
    "    'small_bert/bert_en_uncased_L-8_H-128_A-2':\n",
    "        'https://tfhub.dev/tensorflow/bert_en_uncased_preprocess/3',\n",
    "    'small_bert/bert_en_uncased_L-8_H-256_A-4':\n",
    "        'https://tfhub.dev/tensorflow/bert_en_uncased_preprocess/3',\n",
    "    'small_bert/bert_en_uncased_L-8_H-512_A-8':\n",
    "        'https://tfhub.dev/tensorflow/bert_en_uncased_preprocess/3',\n",
    "    'small_bert/bert_en_uncased_L-8_H-768_A-12':\n",
    "        'https://tfhub.dev/tensorflow/bert_en_uncased_preprocess/3',\n",
    "    'small_bert/bert_en_uncased_L-10_H-128_A-2':\n",
    "        'https://tfhub.dev/tensorflow/bert_en_uncased_preprocess/3',\n",
    "    'small_bert/bert_en_uncased_L-10_H-256_A-4':\n",
    "        'https://tfhub.dev/tensorflow/bert_en_uncased_preprocess/3',\n",
    "    'small_bert/bert_en_uncased_L-10_H-512_A-8':\n",
    "        'https://tfhub.dev/tensorflow/bert_en_uncased_preprocess/3',\n",
    "    'small_bert/bert_en_uncased_L-10_H-768_A-12':\n",
    "        'https://tfhub.dev/tensorflow/bert_en_uncased_preprocess/3',\n",
    "    'small_bert/bert_en_uncased_L-12_H-128_A-2':\n",
    "        'https://tfhub.dev/tensorflow/bert_en_uncased_preprocess/3',\n",
    "    'small_bert/bert_en_uncased_L-12_H-256_A-4':\n",
    "        'https://tfhub.dev/tensorflow/bert_en_uncased_preprocess/3',\n",
    "    'small_bert/bert_en_uncased_L-12_H-512_A-8':\n",
    "        'https://tfhub.dev/tensorflow/bert_en_uncased_preprocess/3',\n",
    "    'small_bert/bert_en_uncased_L-12_H-768_A-12':\n",
    "        'https://tfhub.dev/tensorflow/bert_en_uncased_preprocess/3',\n",
    "    'bert_multi_cased_L-12_H-768_A-12':\n",
    "        'https://tfhub.dev/tensorflow/bert_multi_cased_preprocess/3',\n",
    "    'albert_en_base':\n",
    "        'https://tfhub.dev/tensorflow/albert_en_preprocess/3',\n",
    "    'electra_small':\n",
    "        'https://tfhub.dev/tensorflow/bert_en_uncased_preprocess/3',\n",
    "    'electra_base':\n",
    "        'https://tfhub.dev/tensorflow/bert_en_uncased_preprocess/3',\n",
    "    'experts_pubmed':\n",
    "        'https://tfhub.dev/tensorflow/bert_en_uncased_preprocess/3',\n",
    "    'experts_wiki_books':\n",
    "        'https://tfhub.dev/tensorflow/bert_en_uncased_preprocess/3',\n",
    "    'talking-heads_base':\n",
    "        'https://tfhub.dev/tensorflow/bert_en_uncased_preprocess/3',\n",
    "}\n",
    "\n",
    "tfhub_handle_encoder = map_name_to_handle[bert_model_name]\n",
    "tfhub_handle_preprocess = map_model_to_preprocess[bert_model_name]\n",
    "\n",
    "print(f'BERT model selected           : {tfhub_handle_encoder}')\n",
    "print(f'Preprocess model auto-selected: {tfhub_handle_preprocess}')\n",
    "\n",
    "print(TIME_STEP)"
   ]
  },
  {
   "cell_type": "code",
   "execution_count": 2,
   "metadata": {},
   "outputs": [
    {
     "name": "stderr",
     "output_type": "stream",
     "text": [
      "2022-08-07 16:45:42.284941: I tensorflow/core/platform/cpu_feature_guard.cc:193] This TensorFlow binary is optimized with oneAPI Deep Neural Network Library (oneDNN) to use the following CPU instructions in performance-critical operations:  AVX2 FMA\n",
      "To enable them in other operations, rebuild TensorFlow with the appropriate compiler flags.\n",
      "2022-08-07 16:45:43.157087: I tensorflow/core/common_runtime/gpu/gpu_device.cc:1532] Created device /job:localhost/replica:0/task:0/device:GPU:0 with 6672 MB memory:  -> device: 0, name: GeForce RTX 2070, pci bus id: 0000:03:00.0, compute capability: 7.5\n",
      "2022-08-07 16:45:43.157971: I tensorflow/core/common_runtime/gpu/gpu_device.cc:1532] Created device /job:localhost/replica:0/task:0/device:GPU:1 with 6671 MB memory:  -> device: 1, name: GeForce RTX 2070, pci bus id: 0000:04:00.0, compute capability: 7.5\n"
     ]
    }
   ],
   "source": [
    "\n",
    "bert_preprocess_model = hub.KerasLayer(tfhub_handle_preprocess)"
   ]
  },
  {
   "cell_type": "code",
   "execution_count": 3,
   "metadata": {},
   "outputs": [],
   "source": [
    "bert_model = hub.KerasLayer(tfhub_handle_encoder)"
   ]
  },
  {
   "cell_type": "code",
   "execution_count": 4,
   "metadata": {},
   "outputs": [],
   "source": [
    "def build_classifier_model():\n",
    "  text_input = tf.keras.layers.Input(shape=(), dtype=tf.string, name='text')\n",
    "  preprocessing_layer = hub.KerasLayer(tfhub_handle_preprocess, name='preprocessing')\n",
    "  encoder_inputs = preprocessing_layer(text_input)\n",
    "  encoder = hub.KerasLayer(tfhub_handle_encoder, trainable=True, name='BERT_encoder')\n",
    "  outputs = encoder(encoder_inputs)\n",
    "  net = outputs['pooled_output']\n",
    "  net = tf.keras.layers.Dropout(0.1)(net)\n",
    "  net = tf.keras.layers.Dense(1, activation=None, name='classifier')(net)\n",
    "  return tf.keras.Model(text_input, net)"
   ]
  },
  {
   "cell_type": "code",
   "execution_count": 5,
   "metadata": {},
   "outputs": [],
   "source": [
    "classifier_model = build_classifier_model()"
   ]
  },
  {
   "cell_type": "code",
   "execution_count": 6,
   "metadata": {},
   "outputs": [],
   "source": [
    "loss = tf.keras.losses.BinaryCrossentropy(from_logits=True)\n",
    "metrics = tf.metrics.BinaryAccuracy()\n",
    "\n",
    "f = os.path.basename(Y_TRAIN_INPUT_SAVE_FILE)\n",
    "Y_TRAIN_INPUT_SAVE_FILE = os.path.join(DATA_DIR, os.path.splitext(os.path.basename(f))[0] + \"_\" + str(TIME_STEP) + os.path.splitext(os.path.basename(f))[1]) \n",
    "f = os.path.basename(Y_TEST_INPUT_SAVE_FILE)\n",
    "Y_TEST_INPUT_SAVE_FILE = os.path.join(DATA_DIR, os.path.splitext(os.path.basename(f))[0] + \"_\" + str(TIME_STEP) + os.path.splitext(os.path.basename(f))[1]) \n",
    "f = os.path.basename(Y_VAL_INPUT_SAVE_FILE)\n",
    "Y_VAL_INPUT_SAVE_FILE = os.path.join(DATA_DIR, os.path.splitext(os.path.basename(f))[0] + \"_\" + str(TIME_STEP) + os.path.splitext(os.path.basename(f))[1]) \n",
    "\n",
    "f = os.path.basename(X_TRAIN_SINGLE_TIMESTEP_RAW)\n",
    "X_TRAIN_SINGLE_TIMESTEP_RAW = os.path.join(DATA_DIR, os.path.splitext(os.path.basename(f))[0] + \"_\" + str(TIME_STEP) + os.path.splitext(os.path.basename(f))[1]) \n",
    "f = os.path.basename(X_TEST_SINGLE_TIMESTEP_RAW)\n",
    "X_TEST_SINGLE_TIMESTEP_RAW = os.path.join(DATA_DIR, os.path.splitext(os.path.basename(f))[0] + \"_\" + str(TIME_STEP) + os.path.splitext(os.path.basename(f))[1]) \n",
    "f = os.path.basename(X_VAL_SINGLE_TIMESTEP_RAW)\n",
    "X_VAL_SINGLE_TIMESTEP_RAW = os.path.join(DATA_DIR, os.path.splitext(os.path.basename(f))[0] + \"_\" + str(TIME_STEP) + os.path.splitext(os.path.basename(f))[1]) \n"
   ]
  },
  {
   "cell_type": "code",
   "execution_count": 7,
   "metadata": {},
   "outputs": [],
   "source": [
    "#Dataset Prep\n",
    "with open(X_TRAIN_SINGLE_TIMESTEP_RAW, \"rb\") as f:\n",
    "        x_train = pickle.load(f)\n",
    "\n",
    "with open(Y_TRAIN_INPUT_SAVE_FILE, \"rb\") as f:\n",
    "        y_train = pickle.load(f)\n",
    "\n",
    "with open(X_VAL_SINGLE_TIMESTEP_RAW, \"rb\") as f:\n",
    "        x_val = pickle.load(f)\n",
    "with open(Y_VAL_INPUT_SAVE_FILE, \"rb\") as f:\n",
    "        y_val = pickle.load(f)\n",
    "\n",
    "with open(X_TEST_SINGLE_TIMESTEP_RAW, \"rb\") as f:\n",
    "        x_test = pickle.load(f)\n",
    "with open(Y_TEST_INPUT_SAVE_FILE, \"rb\") as f:\n",
    "        y_test = pickle.load(f)"
   ]
  },
  {
   "cell_type": "code",
   "execution_count": 8,
   "metadata": {},
   "outputs": [],
   "source": [
    "optimizer = tf.keras.optimizers.Adam(learning_rate=LR)\n",
    "\n",
    "loss = tf.keras.losses.BinaryCrossentropy(from_logits=True)\n",
    "metrics = tf.metrics.BinaryAccuracy()"
   ]
  },
  {
   "cell_type": "code",
   "execution_count": 9,
   "metadata": {},
   "outputs": [],
   "source": [
    "classifier_model.compile(optimizer=optimizer,\n",
    "                         loss=loss,\n",
    "                         metrics=metrics)"
   ]
  },
  {
   "cell_type": "code",
   "execution_count": 10,
   "metadata": {},
   "outputs": [
    {
     "name": "stdout",
     "output_type": "stream",
     "text": [
      "Training model with https://tfhub.dev/tensorflow/small_bert/bert_en_uncased_L-4_H-512_A-8/1\n",
      "Epoch 1/30\n",
      "78/78 [==============================] - 18s 170ms/step - loss: 0.6951 - binary_accuracy: 0.5026 - val_loss: 0.6848 - val_binary_accuracy: 0.5438\n",
      "Epoch 2/30\n",
      "78/78 [==============================] - 13s 167ms/step - loss: 0.6507 - binary_accuracy: 0.5789 - val_loss: 0.6672 - val_binary_accuracy: 0.5985\n",
      "Epoch 3/30\n",
      "78/78 [==============================] - 13s 168ms/step - loss: 0.6315 - binary_accuracy: 0.6134 - val_loss: 0.6738 - val_binary_accuracy: 0.5839\n",
      "Epoch 4/30\n",
      "78/78 [==============================] - 13s 168ms/step - loss: 0.6074 - binary_accuracy: 0.6426 - val_loss: 0.6940 - val_binary_accuracy: 0.5766\n",
      "Epoch 5/30\n",
      "78/78 [==============================] - 13s 168ms/step - loss: 0.5768 - binary_accuracy: 0.6759 - val_loss: 0.6612 - val_binary_accuracy: 0.6131\n",
      "Epoch 6/30\n",
      "78/78 [==============================] - 13s 169ms/step - loss: 0.5479 - binary_accuracy: 0.6961 - val_loss: 0.6869 - val_binary_accuracy: 0.6022\n",
      "Epoch 7/30\n",
      "78/78 [==============================] - 13s 169ms/step - loss: 0.5147 - binary_accuracy: 0.7282 - val_loss: 0.6989 - val_binary_accuracy: 0.6168\n",
      "Epoch 8/30\n",
      "78/78 [==============================] - 13s 171ms/step - loss: 0.4767 - binary_accuracy: 0.7546 - val_loss: 0.7592 - val_binary_accuracy: 0.6095\n",
      "Epoch 9/30\n",
      "78/78 [==============================] - 13s 171ms/step - loss: 0.4280 - binary_accuracy: 0.7972 - val_loss: 0.8450 - val_binary_accuracy: 0.5912\n",
      "Epoch 10/30\n",
      "78/78 [==============================] - 13s 171ms/step - loss: 0.3996 - binary_accuracy: 0.8041 - val_loss: 0.8118 - val_binary_accuracy: 0.6350\n",
      "Epoch 11/30\n",
      "78/78 [==============================] - 13s 171ms/step - loss: 0.3223 - binary_accuracy: 0.8621 - val_loss: 0.8885 - val_binary_accuracy: 0.6350\n",
      "Epoch 12/30\n",
      "78/78 [==============================] - 13s 171ms/step - loss: 0.2857 - binary_accuracy: 0.8771 - val_loss: 0.9209 - val_binary_accuracy: 0.6204\n",
      "Epoch 13/30\n",
      "78/78 [==============================] - 13s 171ms/step - loss: 0.2970 - binary_accuracy: 0.8698 - val_loss: 0.9220 - val_binary_accuracy: 0.6131\n",
      "Epoch 14/30\n",
      "78/78 [==============================] - 13s 171ms/step - loss: 0.2401 - binary_accuracy: 0.8982 - val_loss: 0.9966 - val_binary_accuracy: 0.6314\n",
      "Epoch 15/30\n",
      "78/78 [==============================] - 13s 171ms/step - loss: 0.1728 - binary_accuracy: 0.9391 - val_loss: 1.1092 - val_binary_accuracy: 0.6204\n",
      "Epoch 16/30\n",
      "78/78 [==============================] - 13s 172ms/step - loss: 0.1471 - binary_accuracy: 0.9456 - val_loss: 1.1431 - val_binary_accuracy: 0.6350\n",
      "Epoch 17/30\n",
      "78/78 [==============================] - 13s 171ms/step - loss: 0.1298 - binary_accuracy: 0.9538 - val_loss: 1.1932 - val_binary_accuracy: 0.6350\n",
      "Epoch 18/30\n",
      "78/78 [==============================] - 13s 171ms/step - loss: 0.1524 - binary_accuracy: 0.9412 - val_loss: 1.2746 - val_binary_accuracy: 0.6058\n",
      "Epoch 19/30\n",
      "78/78 [==============================] - 13s 173ms/step - loss: 0.0984 - binary_accuracy: 0.9627 - val_loss: 1.3170 - val_binary_accuracy: 0.6204\n",
      "Epoch 20/30\n",
      "78/78 [==============================] - 13s 171ms/step - loss: 0.0830 - binary_accuracy: 0.9728 - val_loss: 1.4057 - val_binary_accuracy: 0.6058\n",
      "Epoch 21/30\n",
      "78/78 [==============================] - 13s 173ms/step - loss: 0.0735 - binary_accuracy: 0.9777 - val_loss: 1.4412 - val_binary_accuracy: 0.6095\n",
      "Epoch 22/30\n",
      "78/78 [==============================] - 13s 171ms/step - loss: 0.0638 - binary_accuracy: 0.9793 - val_loss: 1.5361 - val_binary_accuracy: 0.6022\n",
      "Epoch 23/30\n",
      "78/78 [==============================] - 13s 172ms/step - loss: 0.0540 - binary_accuracy: 0.9809 - val_loss: 1.5479 - val_binary_accuracy: 0.6131\n",
      "Epoch 24/30\n",
      "78/78 [==============================] - 13s 171ms/step - loss: 0.0495 - binary_accuracy: 0.9809 - val_loss: 1.6334 - val_binary_accuracy: 0.6022\n",
      "Epoch 25/30\n",
      "78/78 [==============================] - 13s 172ms/step - loss: 0.0556 - binary_accuracy: 0.9773 - val_loss: 1.6360 - val_binary_accuracy: 0.5949\n",
      "Epoch 26/30\n",
      "78/78 [==============================] - 13s 172ms/step - loss: 0.0751 - binary_accuracy: 0.9748 - val_loss: 1.6783 - val_binary_accuracy: 0.5839\n",
      "Epoch 27/30\n",
      "78/78 [==============================] - 13s 171ms/step - loss: 0.0513 - binary_accuracy: 0.9809 - val_loss: 1.8759 - val_binary_accuracy: 0.5839\n",
      "Epoch 28/30\n",
      "78/78 [==============================] - 13s 171ms/step - loss: 0.0380 - binary_accuracy: 0.9874 - val_loss: 1.7902 - val_binary_accuracy: 0.5803\n",
      "Epoch 29/30\n",
      "78/78 [==============================] - 13s 172ms/step - loss: 0.0407 - binary_accuracy: 0.9858 - val_loss: 1.7816 - val_binary_accuracy: 0.5803\n",
      "Epoch 30/30\n",
      "78/78 [==============================] - 13s 171ms/step - loss: 0.0271 - binary_accuracy: 0.9907 - val_loss: 1.8737 - val_binary_accuracy: 0.5985\n"
     ]
    }
   ],
   "source": [
    "print(f'Training model with {tfhub_handle_encoder}')\n",
    "\n",
    "\n",
    "history = classifier_model.fit(x=x_train, y=y_train,\n",
    "                                validation_data = (x_val, y_val),\n",
    "                               epochs=NUM_EPOCHS)"
   ]
  },
  {
   "cell_type": "code",
   "execution_count": 11,
   "metadata": {},
   "outputs": [
    {
     "name": "stdout",
     "output_type": "stream",
     "text": [
      "22/22 [==============================] - 2s 91ms/step - loss: 1.6907 - binary_accuracy: 0.6146\n",
      "Loss: 1.6907004117965698\n",
      "Accuracy: 0.6145985126495361\n"
     ]
    }
   ],
   "source": [
    "loss, accuracy = classifier_model.evaluate(x = x_test,y = y_test)\n",
    "\n",
    "print(f'Loss: {loss}')\n",
    "print(f'Accuracy: {accuracy}')"
   ]
  },
  {
   "cell_type": "code",
   "execution_count": 12,
   "metadata": {},
   "outputs": [
    {
     "name": "stdout",
     "output_type": "stream",
     "text": [
      "dict_keys(['loss', 'binary_accuracy', 'val_loss', 'val_binary_accuracy'])\n"
     ]
    },
    {
     "data": {
      "text/plain": [
       "<matplotlib.legend.Legend at 0x7f9511b052e0>"
      ]
     },
     "execution_count": 12,
     "metadata": {},
     "output_type": "execute_result"
    },
    {
     "data": {
      "image/png": "[encoded data removed]",
      "text/plain": [
       "<Figure size 720x432 with 2 Axes>"
      ]
     },
     "metadata": {
      "needs_background": "light"
     },
     "output_type": "display_data"
    }
   ],
   "source": [
    "\n",
    "import matplotlib.pyplot as plt\n",
    "\n",
    "history_dict = history.history\n",
    "print(history_dict.keys())\n",
    "\n",
    "acc = history_dict['binary_accuracy']\n",
    "val_acc = history_dict['val_binary_accuracy']\n",
    "loss = history_dict['loss']\n",
    "val_loss = history_dict['val_loss']\n",
    "\n",
    "epochs = range(1, len(acc) + 1)\n",
    "fig = plt.figure(figsize=(10, 6))\n",
    "fig.tight_layout()\n",
    "\n",
    "plt.subplot(2, 1, 1)\n",
    "# r is for \"solid red line\"\n",
    "plt.plot(epochs, loss, 'r', label='Training loss')\n",
    "# b is for \"solid blue line\"\n",
    "plt.plot(epochs, val_loss, 'b', label='Validation loss')\n",
    "plt.title('Training and validation loss')\n",
    "# plt.xlabel('Epochs')\n",
    "plt.ylabel('Loss')\n",
    "plt.legend()\n",
    "\n",
    "plt.subplot(2, 1, 2)\n",
    "plt.plot(epochs, acc, 'r', label='Training acc')\n",
    "plt.plot(epochs, val_acc, 'b', label='Validation acc')\n",
    "plt.title('Training and validation accuracy')\n",
    "plt.xlabel('Epochs')\n",
    "plt.ylabel('Accuracy')\n",
    "plt.legend(loc='lower right')"
   ]
  },
  {
   "cell_type": "code",
   "execution_count": 13,
   "metadata": {},
   "outputs": [
    {
     "name": "stderr",
     "output_type": "stream",
     "text": [
      "WARNING:absl:Found untraced functions such as restored_function_body, restored_function_body, restored_function_body, restored_function_body, restored_function_body while saving (showing 5 of 124). These functions will not be directly callable after loading.\n"
     ]
    },
    {
     "name": "stdout",
     "output_type": "stream",
     "text": [
      "INFO:tensorflow:Assets written to: ./single_timestep_90_bert/assets\n"
     ]
    },
    {
     "name": "stderr",
     "output_type": "stream",
     "text": [
      "INFO:tensorflow:Assets written to: ./single_timestep_90_bert/assets\n"
     ]
    }
   ],
   "source": [
    "\n",
    "dataset_name = 'single_timestep_' + str(TIME_STEP)\n",
    "saved_model_path = './{}_bert'.format(dataset_name.replace('/', '_'))\n",
    "classifier_model.save(saved_model_path, include_optimizer=False)\n"
   ]
  }
 ],
 "metadata": {
  "kernelspec": {
   "display_name": "Python 3.9.12 ('tf')",
   "language": "python",
   "name": "python3"
  },
  "language_info": {
   "codemirror_mode": {
    "name": "ipython",
    "version": 3
   },
   "file_extension": ".py",
   "mimetype": "text/x-python",
   "name": "python",
   "nbconvert_exporter": "python",
   "pygments_lexer": "ipython3",
   "version": "3.9.12"
  },
  "orig_nbformat": 4,
  "vscode": {
   "interpreter": {
    "hash": "d6f07f10bbd904384622e2c81da346bac6398da26490ea76cc729ffb1c8c49fa"
   }
  }
 },
 "nbformat": 4,
 "nbformat_minor": 2
}
